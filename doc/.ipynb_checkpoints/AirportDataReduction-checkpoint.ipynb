{
 "cells": [
  {
   "cell_type": "markdown",
   "metadata": {
    "ExecuteTime": {
     "end_time": "2019-02-20T22:42:46.928956Z",
     "start_time": "2019-02-20T22:42:46.919291Z"
    }
   },
   "source": [
    "This notebook prepares the airport data to be fed into the separate_data r file"
   ]
  },
  {
   "cell_type": "code",
   "execution_count": 40,
   "metadata": {
    "ExecuteTime": {
     "end_time": "2019-02-20T22:43:04.097907Z",
     "start_time": "2019-02-20T22:43:04.094392Z"
    }
   },
   "outputs": [],
   "source": [
    "import pandas as pd\n",
    "import datetime"
   ]
  },
  {
   "cell_type": "code",
   "execution_count": 46,
   "metadata": {
    "ExecuteTime": {
     "end_time": "2019-02-20T22:45:55.420222Z",
     "start_time": "2019-02-20T22:45:54.982683Z"
    }
   },
   "outputs": [],
   "source": [
    "data = pd.read_csv(\"../../NWK_data.csv\")"
   ]
  },
  {
   "cell_type": "markdown",
   "metadata": {},
   "source": [
    "Calculate farePerDistance"
   ]
  },
  {
   "cell_type": "code",
   "execution_count": 47,
   "metadata": {
    "ExecuteTime": {
     "end_time": "2019-02-20T22:45:58.507779Z",
     "start_time": "2019-02-20T22:45:58.501630Z"
    },
    "scrolled": false
   },
   "outputs": [],
   "source": [
    "data[\"farePerDistance\"] = data.fare_amount/data.trip_distance"
   ]
  },
  {
   "cell_type": "markdown",
   "metadata": {},
   "source": [
    "Get hours and if business day data"
   ]
  },
  {
   "cell_type": "code",
   "execution_count": 48,
   "metadata": {
    "ExecuteTime": {
     "end_time": "2019-02-20T22:46:00.796597Z",
     "start_time": "2019-02-20T22:45:59.732820Z"
    }
   },
   "outputs": [],
   "source": [
    "data[\"tpep_pickup_datetime\"] = pd.to_datetime(data[\"tpep_pickup_datetime\"])\n",
    "data[\"pickup_hour\"]= data[\"tpep_pickup_datetime\"].apply(lambda x: x.hour)\n",
    "data[\"business_day\"]= data[\"tpep_pickup_datetime\"].apply(lambda x: x.dayofweek<5)"
   ]
  },
  {
   "cell_type": "code",
   "execution_count": 49,
   "metadata": {
    "ExecuteTime": {
     "end_time": "2019-02-20T22:46:02.505859Z",
     "start_time": "2019-02-20T22:46:02.474407Z"
    }
   },
   "outputs": [],
   "source": [
    "data = data.drop(columns = [\"tpep_pickup_datetime\", \"travelTime\"])\n",
    "data = data.drop(columns = [\"Unnamed: 0\", \"dropoff_latitude\", \"dropoff_longitude\", \"fare_amount\", \"tpep_dropoff_datetime\"])"
   ]
  },
  {
   "cell_type": "code",
   "execution_count": 50,
   "metadata": {
    "ExecuteTime": {
     "end_time": "2019-02-20T22:46:09.940152Z",
     "start_time": "2019-02-20T22:46:08.800657Z"
    }
   },
   "outputs": [],
   "source": [
    "data.to_csv(\"../output/NWK_reduced.csv\")"
   ]
  }
 ],
 "metadata": {
  "kernelspec": {
   "display_name": "Python 3",
   "language": "python",
   "name": "python3"
  },
  "language_info": {
   "codemirror_mode": {
    "name": "ipython",
    "version": 3
   },
   "file_extension": ".py",
   "mimetype": "text/x-python",
   "name": "python",
   "nbconvert_exporter": "python",
   "pygments_lexer": "ipython3",
   "version": "3.6.6"
  },
  "varInspector": {
   "cols": {
    "lenName": 16,
    "lenType": 16,
    "lenVar": 40
   },
   "kernels_config": {
    "python": {
     "delete_cmd_postfix": "",
     "delete_cmd_prefix": "del ",
     "library": "var_list.py",
     "varRefreshCmd": "print(var_dic_list())"
    },
    "r": {
     "delete_cmd_postfix": ") ",
     "delete_cmd_prefix": "rm(",
     "library": "var_list.r",
     "varRefreshCmd": "cat(var_dic_list()) "
    }
   },
   "types_to_exclude": [
    "module",
    "function",
    "builtin_function_or_method",
    "instance",
    "_Feature"
   ],
   "window_display": false
  }
 },
 "nbformat": 4,
 "nbformat_minor": 2
}
